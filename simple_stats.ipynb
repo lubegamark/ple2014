{
 "cells": [
  {
   "cell_type": "code",
   "execution_count": null,
   "metadata": {
    "collapsed": true
   },
   "outputs": [],
   "source": [
    "import pandas as pd"
   ]
  },
  {
   "cell_type": "code",
   "execution_count": null,
   "metadata": {
    "collapsed": true
   },
   "outputs": [],
   "source": [
    "kampala = pd.read_csv('data/processed/KAMPALA.csv')"
   ]
  },
  {
   "cell_type": "code",
   "execution_count": null,
   "metadata": {
    "collapsed": false
   },
   "outputs": [],
   "source": [
    "eng_ones = kampala[kampala['ENG'] == 1]\n",
    "sci_ones = kampala[kampala['SCI'] == 1]\n",
    "math_ones = kampala[kampala['MAT'] == 1]\n",
    "sst_ones = kampala[kampala['SST'] == 1]"
   ]
  },
  {
   "cell_type": "code",
   "execution_count": null,
   "metadata": {
    "collapsed": false
   },
   "outputs": [],
   "source": [
    "print('\\nENGLISH DISTINCTION 1(top 10)')\n",
    "print(eng_ones['SCHOOL'].value_counts().head(10))\n",
    "print('\\nMATHEMATICS DISTINCTION 1(top 10)')\n",
    "print(math_ones['SCHOOL'].value_counts().head(10))\n",
    "print('\\nSCIENCE DISTINCTION 1(top 10)')\n",
    "print(sci_ones['SCHOOL'].value_counts().head(10))\n",
    "print('\\nSOCIAL STUDIES DISTINCTION 1(top 10)')\n",
    "print(sst_ones['SCHOOL'].value_counts().head(10))"
   ]
  },
  {
   "cell_type": "code",
   "execution_count": null,
   "metadata": {
    "collapsed": false
   },
   "outputs": [],
   "source": [
    "ungraded = kampala[kampala['DIV']==0]"
   ]
  },
  {
   "cell_type": "code",
   "execution_count": null,
   "metadata": {
    "collapsed": false
   },
   "outputs": [],
   "source": [
    "ungraded['SCHOOL'].value_counts()"
   ]
  },
  {
   "cell_type": "code",
   "execution_count": null,
   "metadata": {
    "collapsed": true
   },
   "outputs": [],
   "source": [
    ""
   ]
  }
 ],
 "metadata": {
  "kernelspec": {
   "display_name": "Python 3",
   "language": "python",
   "name": "python3"
  },
  "language_info": {
   "codemirror_mode": {
    "name": "ipython",
    "version": 3.0
   },
   "file_extension": ".py",
   "mimetype": "text/x-python",
   "name": "python",
   "nbconvert_exporter": "python",
   "pygments_lexer": "ipython3",
   "version": "3.5.2"
  }
 },
 "nbformat": 4,
 "nbformat_minor": 0
}