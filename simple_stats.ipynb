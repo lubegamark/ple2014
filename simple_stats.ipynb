{
 "cells": [
  {
   "cell_type": "code",
   "execution_count": 1,
   "metadata": {
    "collapsed": true
   },
   "outputs": [],
   "source": [
    "import pandas as pd"
   ]
  },
  {
   "cell_type": "code",
   "execution_count": 2,
   "metadata": {
    "collapsed": true
   },
   "outputs": [],
   "source": [
    "kampala = pd.read_csv('data/processed/KAMPALA.csv')"
   ]
  },
  {
   "cell_type": "code",
   "execution_count": 8,
   "metadata": {
    "collapsed": false
   },
   "outputs": [],
   "source": [
    "eng_ones = kampala[kampala['ENG'] == 1]\n",
    "sci_ones = kampala[kampala['SCI'] == 1]\n",
    "math_ones = kampala[kampala['MAT'] == 1]\n",
    "sst_ones = kampala[kampala['SST'] == 1]\n"
   ]
  },
  {
   "cell_type": "code",
   "execution_count": 11,
   "metadata": {
    "collapsed": false
   },
   "outputs": [
    {
     "name": "stdout",
     "output_type": "stream",
     "text": [
      "\n",
      "ENGLISH DISTINCTION 1(top 10)\n",
      " CITY PARENTS SCHOOL                      87\n",
      "HORMISDALLEN DAY SCHOOL                   63\n",
      " GREEN HILL ACADEMY                       59\n",
      "KABOJJA JUNIOR PRIMARY SCHOOL             55\n",
      "HORMISDALLEN MIXED DAY AND BDG            51\n",
      "SIR APOLLO KAGGWA ROAD PIS                42\n",
      "KAMPALA PARENTS SCHOOL                    38\n",
      "SIR APOLLO KAGGWA PIS MENGO               32\n",
      "KAMPALA QUALITY PRIMARY SCHOOL            28\n",
      " GOOD TIMES KAWAALA PRI. SCHOOL           22\n",
      "Name: SCHOOL, dtype: int64\n",
      "\n",
      "MATHEMATICS DISTINCTION 1(top 10)\n",
      " CITY PARENTS SCHOOL               74\n",
      "KAMPALA PARENTS SCHOOL             54\n",
      " GREEN HILL ACADEMY                53\n",
      "KABOJJA JUNIOR PRIMARY SCHOOL      50\n",
      "HORMISDALLEN MIXED DAY AND BDG     38\n",
      " CLEVELAND HILL PRIMARY SCHOOL     25\n",
      "HORMISDALLEN DAY SCHOOL            24\n",
      "SIR APOLLO KAGGWA PIS MENGO        24\n",
      "ST.FRANCIS NTINDA, KIGOOWA         21\n",
      "SIR APOLLO KAGGWA PIS NAKASERO     21\n",
      "Name: SCHOOL, dtype: int64\n",
      "\n",
      "SCIENCE DISTINCTION 1(top 10)\n",
      "MILDCARE PARENTS' SCHOOL          65\n",
      " KAWEMPE DECOROUS SCHOOL          63\n",
      " GREEN HILL ACADEMY               51\n",
      "KABOJJA JUNIOR PRIMARY SCHOOL     49\n",
      "ST.LAWRENCE JUNIOR SCHOOL         39\n",
      "ST.FRANCIS NTINDA, KIGOOWA        36\n",
      " CITY PARENTS SCHOOL              35\n",
      "KAMPALA PARENTS SCHOOL            35\n",
      "SIR APOLLO KAGGWA PIS MENGO       31\n",
      "SIR APOLLO KAGGWA ROAD PIS        27\n",
      "Name: SCHOOL, dtype: int64\n",
      "\n",
      "SOCIAL STUDIES DISTINCTION 1(top 10)\n",
      " GREEN HILL ACADEMY                   102\n",
      "HORMISDALLEN DAY SCHOOL                54\n",
      " CITY PARENTS SCHOOL                   53\n",
      "HORMISDALLEN MIXED DAY AND BDG         52\n",
      "KAMPALA PARENTS SCHOOL                 48\n",
      "SIR APOLLO KAGGWA ROAD PIS             47\n",
      "SIR APOLLO KAGGWA PIS MENGO            41\n",
      "KABOJJA JUNIOR PRIMARY SCHOOL          39\n",
      " KAWEMPE DECOROUS SCHOOL               31\n",
      "KING FAHAD ISLAMIC PRI. SCHOOL         24\n",
      "Name: SCHOOL, dtype: int64\n"
     ]
    }
   ],
   "source": [
    "print('\\nENGLISH DISTINCTION 1(top 10)')\n",
    "print(eng_ones['SCHOOL'].value_counts().head(10))\n",
    "print('\\nMATHEMATICS DISTINCTION 1(top 10)')\n",
    "print(math_ones['SCHOOL'].value_counts().head(10))\n",
    "print('\\nSCIENCE DISTINCTION 1(top 10)')\n",
    "print(sci_ones['SCHOOL'].value_counts().head(10))\n",
    "print('\\nSOCIAL STUDIES DISTINCTION 1(top 10)')\n",
    "print(sst_ones['SCHOOL'].value_counts().head(10))"
   ]
  },
  {
   "cell_type": "code",
   "execution_count": 12,
   "metadata": {
    "collapsed": false
   },
   "outputs": [],
   "source": [
    "ungraded = kampala[kampala['DIV']==0]"
   ]
  },
  {
   "cell_type": "code",
   "execution_count": 13,
   "metadata": {
    "collapsed": false
   },
   "outputs": [
    {
     "data": {
      "text/plain": [
       " KATWE PRIMARY SCHOOL                   50\n",
       "OLD MULAGO PRIMARY SCHOOL               42\n",
       " NATEETE MOSLEM SCHOOL                  31\n",
       "MARTYRS' COMMUNITY CENTRE PIS           20\n",
       "WANDEGEYA MUSLIM PRI. SCHOOL            20\n",
       "KAWEMPE CIU PRIMARY SCHOOL              20\n",
       "NSOOBA PARENTS PRIMARY SCHOOL           20\n",
       "UGANDA SCHOOL FOR THE DEAF              19\n",
       "MIREMBE PRIMARY SCHOOL                  19\n",
       "MOUNT CARMEL PRIMARY SCHOOL             17\n",
       "LUBIRI PRIMARY SCHOOL                   16\n",
       " MUNYONYO PRIMARY SCHOOL                16\n",
       "MPERERWE PRIMARY SCHOOL                 16\n",
       "OLYMPIC PARENTS PRIMARY SCHOOL          14\n",
       "NAMUNGOONA KIGOBE PIS                   13\n",
       "KISUGU CIU PRIMARY SCHOOL               13\n",
       "LUZIRA MURCHISON BAY PIS                13\n",
       " MULAGO SCHOOL FOR THE DEAF             12\n",
       "MAKERERE UNIV. PRIMARY SCHOOL           12\n",
       " KCC BUSEGA COMMUNITY PIS               12\n",
       "ST.PAUL PRIMARY SCHOOL,NSAMBYA          12\n",
       " NAKIVUBO SETTLEMENT PIS                11\n",
       " ST.KIZITO KIRIBEDDA PIS                11\n",
       "ST.CHARLES LWANGA PRI. SCHOOL           10\n",
       "KAMPALA PRIMARY SCHOOL                  10\n",
       "BUKOTO MUSLIM PRIMARY SCHOOL            10\n",
       "KANSANGA PRIMARY SCHOOL                  9\n",
       "BBIINA PRIMARY SCHOOL                    9\n",
       "KONGE PARENTS ACADEMY SCHOOL             9\n",
       "NAKIVUBO PRIMARY SCHOOL                  9\n",
       "                                        ..\n",
       "SUMMIT VIEW PRIMARY SCHOOL               1\n",
       "PORT BELL PRIMARY SCHOOL                 1\n",
       "JUSSAM PRIMARY SCHOOL                    1\n",
       "KYAGGWE ROAD PRIMARY SCHOOL              1\n",
       "POLICE CHILDREN SCHOOL NTINDA            1\n",
       "KITARA JUNIOR SCHOOL                     1\n",
       " KCC PRIMARY SCHOOL, KAMWOKYA            1\n",
       "ALPHA AND OMEGA PRIMARY SCHOOL           1\n",
       "WINTERLAND PRIMARY SCHOOL                1\n",
       " KIGOOWA INFANTS SCHOOL                  1\n",
       "ST.BARNABAS PRIMARY SCHOOL               1\n",
       "EAGLETS PRIMARY SCHOOL                   1\n",
       "SANYU PRIMARY SCHOOL                     1\n",
       " ST.PAUL CIU PIS KYEBANDO                1\n",
       "LUZIRA CIU PRIMARY SCHOOL                1\n",
       "WHEELING PREPARATORY CENTTRE             1\n",
       "GOOD TIME INFANT SCH.                    1\n",
       "NAMUNGOONA ORTHODOX PIS                  1\n",
       "KITINTALE MADRASATIL ISLAMIYA            1\n",
       " BLESSED PARENTS SCHOOL                  1\n",
       " UGANDA SPASTICS SCHOOL                  1\n",
       "MONNARICH NURSERY & PIS                  1\n",
       "KISAAKYE PRIMARY SCHOOL                  1\n",
       "MIREMBE PRE AND PRIMARY SCHOOL           1\n",
       " JOLLY AND LOWLY PRIMARY SCHOOL          1\n",
       " B.B.C. PRIMARY SCHOOL                   1\n",
       "ROSEPASK PRIMARY SCHOOL                  1\n",
       "KASUBI PARENTS SCHOOL                    1\n",
       "EAST KOLOLO PRIMARY SCHOOL               1\n",
       "ST.JOHN BAPTISTS PRI. SCHOOL             1\n",
       "Name: SCHOOL, dtype: int64"
      ]
     },
     "execution_count": 13,
     "metadata": {},
     "output_type": "execute_result"
    }
   ],
   "source": [
    "ungraded['SCHOOL'].value_counts()"
   ]
  },
  {
   "cell_type": "code",
   "execution_count": null,
   "metadata": {
    "collapsed": true
   },
   "outputs": [],
   "source": []
  }
 ],
 "metadata": {
  "kernelspec": {
   "display_name": "Python 3",
   "language": "python",
   "name": "python3"
  },
  "language_info": {
   "codemirror_mode": {
    "name": "ipython",
    "version": 3
   },
   "file_extension": ".py",
   "mimetype": "text/x-python",
   "name": "python",
   "nbconvert_exporter": "python",
   "pygments_lexer": "ipython3",
   "version": "3.5.2"
  }
 },
 "nbformat": 4,
 "nbformat_minor": 0
}
